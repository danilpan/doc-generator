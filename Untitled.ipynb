{
 "cells": [
  {
   "cell_type": "code",
   "execution_count": 58,
   "metadata": {},
   "outputs": [],
   "source": [
    "import docx"
   ]
  },
  {
   "cell_type": "code",
   "execution_count": 65,
   "metadata": {},
   "outputs": [],
   "source": [
    "def createDocument(variables):\n",
    "    template = '%s.docx' % variables[\"docType\"]#name of the template\n",
    "    output = '%s.docx' % variables[\"companyName\"]#for generation file with custom name\n",
    "\n",
    "    templateDocument = Document(template)\n",
    "\n",
    "    for key, value in variables.items():\n",
    "        for paragraph in templateDocument.paragraphs:\n",
    "            replaceTextParagraph(paragraph, key, value) \n",
    "        for table in templateDocument.tables:\n",
    "            for col in table.columns:\n",
    "                for cell in col.cells:\n",
    "                    for paragraph in cell.paragraphs:\n",
    "                        replaceTextParagraph(paragraph, key, value)\n",
    "\n",
    "    templateDocument.save(output)\n",
    "\n",
    "\n",
    "def replaceTextParagraph(paragraph, key, value):\n",
    "    if key in paragraph.text:\n",
    "        inline = paragraph.runs\n",
    "        for item in inline:\n",
    "            if key in item.text:\n",
    "                item.text = item.text.replace(key, value)"
   ]
  },
  {
   "cell_type": "code",
   "execution_count": 66,
   "metadata": {},
   "outputs": [],
   "source": [
    "keys={\n",
    "        \"docType\":\"ce2145cc-3071-4ca3-b9a9-6b5aac9eb22a\",\n",
    "        \"companyName\": \"1111 Name\"\n",
    "    }"
   ]
  },
  {
   "cell_type": "code",
   "execution_count": 67,
   "metadata": {},
   "outputs": [],
   "source": [
    "createDocument(keys)"
   ]
  },
  {
   "cell_type": "code",
   "execution_count": null,
   "metadata": {},
   "outputs": [],
   "source": []
  }
 ],
 "metadata": {
  "kernelspec": {
   "display_name": "Python 3",
   "language": "python",
   "name": "python3"
  },
  "language_info": {
   "codemirror_mode": {
    "name": "ipython",
    "version": 3
   },
   "file_extension": ".py",
   "mimetype": "text/x-python",
   "name": "python",
   "nbconvert_exporter": "python",
   "pygments_lexer": "ipython3",
   "version": "3.8.3"
  }
 },
 "nbformat": 4,
 "nbformat_minor": 4
}
